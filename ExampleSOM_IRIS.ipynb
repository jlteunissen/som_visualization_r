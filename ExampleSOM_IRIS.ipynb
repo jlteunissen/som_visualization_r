{
 "cells": [
  {
   "cell_type": "markdown",
   "metadata": {},
   "source": [
    "# Example of SOMs with the IRIS dataset "
   ]
  },
  {
   "cell_type": "markdown",
   "metadata": {},
   "source": [
    "## Load the libraries and dataset:"
   ]
  },
  {
   "cell_type": "code",
   "execution_count": null,
   "metadata": {},
   "outputs": [],
   "source": [
    "# load Kohonen package\n",
    "require(kohonen)"
   ]
  },
  {
   "cell_type": "code",
   "execution_count": null,
   "metadata": {},
   "outputs": [],
   "source": [
    "# slightly reduce plotsize\n",
    "options(repr.plot.width=5, repr.plot.height=5)"
   ]
  },
  {
   "cell_type": "code",
   "execution_count": null,
   "metadata": {},
   "outputs": [],
   "source": [
    "# load my own plotting functions:\n",
    "source(\"somComponentPlanePlottingFunction.R\")\n",
    "source(\"plotUMatrix.R\")\n",
    "source(\"addClusterBoundaries.R\")\n",
    "source(\"addText.R\")"
   ]
  },
  {
   "cell_type": "code",
   "execution_count": null,
   "metadata": {},
   "outputs": [],
   "source": [
    "data(iris)\n",
    "str(iris)"
   ]
  },
  {
   "cell_type": "code",
   "execution_count": null,
   "metadata": {},
   "outputs": [],
   "source": [
    "# create SOM data\n",
    "colnames(iris)[1:4]\n",
    "species = iris['Species']\n",
    "somdata = scale(iris[colnames(iris)[1:4]])"
   ]
  },
  {
   "cell_type": "markdown",
   "metadata": {},
   "source": [
    "## Training a simple SOM:"
   ]
  },
  {
   "cell_type": "code",
   "execution_count": null,
   "metadata": {},
   "outputs": [],
   "source": [
    "# train SOM\n",
    "data.som1 <- som(somdata,\n",
    "                 rlen=1000, # the number of times the complete data set will be presented to the network\n",
    "                 alpha = c(0.5, 0.01), # default = c(0.05, 0.01)\n",
    "                 grid = somgrid(10, 10, \"hexagonal\", toroidal = FALSE) # \"hexagonal\" or \"rectangular\"\n",
    "                ) "
   ]
  },
  {
   "cell_type": "code",
   "execution_count": null,
   "metadata": {},
   "outputs": [],
   "source": [
    "# plot training process: # only after 500 views, a kind of plateau is visible!\n",
    "plot(data.som1, type=\"changes\")"
   ]
  },
  {
   "cell_type": "code",
   "execution_count": null,
   "metadata": {},
   "outputs": [],
   "source": [
    "# clustering:\n",
    "#som_cluster <- cutree(hclust(dist(data.som1$codes[[1]])), 2) # assuming three clusters!\n",
    "som_cluster <- cutree(hclust(dist(data.som1$codes[[1]]), method=\"ward.D\"), 3) # assuming three clusters!\n",
    "som_cluster2 <- cutree(hclust(dist(data.som1$codes[[1]]), method=\"ward.D2\"), 3) # assuming three clusters!"
   ]
  },
  {
   "cell_type": "code",
   "execution_count": null,
   "metadata": {},
   "outputs": [],
   "source": [
    "# alternative clustering:\n",
    "clust <- kmeans(data.som1$codes[[1]], 3)"
   ]
  },
  {
   "cell_type": "code",
   "execution_count": null,
   "metadata": {},
   "outputs": [],
   "source": [
    "#distance matrix between the cells\n",
    "dc <- dist(data.som1$codes[[1]])\n",
    "#hac – the option “members” is crucial\n",
    "nb = table(data.som1$unit.classif)\n",
    "cah <- hclust(dc, method=\"ward.D2\")\n",
    "plot(cah,hang=-1, labels=F)\n",
    "# As one can see, 2 clusters makes the most sense!\n",
    "#visualizing the clusters into the dendrogram\n",
    "rect.hclust(cah,k=2)"
   ]
  },
  {
   "cell_type": "code",
   "execution_count": null,
   "metadata": {},
   "outputs": [],
   "source": [
    "# VISUALIZE RESULTS COMPONENT PLANES\n",
    "# ideally the sample distribution is relatively uniform\n",
    "par(mar = rep(1, 4))\n",
    "cplanelay <- layout(matrix(1:4, nrow=2))\n",
    "vars <- colnames(data.som1$data[[1]])\n",
    "for(p in vars) {\n",
    "  plotCplane(som_obj=data.som1, variable=p, legend=FALSE, type=\"Quantile\") # or \"Quantile\"\n",
    "  add.cluster.boundaries(data.som1, som_cluster, col=rgb(0,0,0.5,0.7), lwd=3)\n",
    "  add.cluster.boundaries(data.som1, som_cluster2, col=rgb(0.5,0,0,0.7), lwd=3)\n",
    "  #add.cluster.boundaries(data.som1, clust$cluster, col=rgb(0,0,0,0.4), lwd=2)\n",
    "  add.numbers(data.som1, scale=0.5)\n",
    "}"
   ]
  },
  {
   "cell_type": "code",
   "execution_count": null,
   "metadata": {},
   "outputs": [],
   "source": [
    "##PLOT U-MATRIX\n",
    "par(mar=c(5,0,5,3.6))\n",
    "neigh.dists <- plotUmat(data.som1, type = \"Equal Interval\") # type is Quantile or \"Equal Interval\"(default)\n",
    "add.points(data.som1, scale=0.6)\n",
    "add.cluster.boundaries(data.som1, som_cluster)\n",
    "\n",
    "# add color bar\n",
    "limits <- c( min(neigh.dists, na.rm=TRUE), max(neigh.dists, na.rm=TRUE) )\n",
    "image.plot(add=TRUE, legend.width=1,\n",
    "    legend.only=TRUE, col=rev(designer.colors(n=50, col=brewer.pal(9, \"Spectral\"))), zlim=limits)"
   ]
  },
  {
   "cell_type": "code",
   "execution_count": null,
   "metadata": {},
   "outputs": [],
   "source": [
    "mypal <- function(n){\n",
    "    rev(\n",
    "        colorRampPalette(\n",
    "            #brewer.pal(11, \"Spectral\")\n",
    "            brewer.pal(9, \"Spectral\")\n",
    "        )(n)\n",
    "    )\n",
    "} \n",
    "\n",
    "plot(data.som1, type = \"dist.neighbours\",\n",
    "     #palette.name = colorRampPalette(brewer.pal(11, \"Spectral\")),\n",
    "     #palette.name=terrain.colors,\n",
    "     palette.name = mypal,\n",
    "     shape=\"straight\")\n",
    "kohonen::add.cluster.boundaries(data.som1, som_cluster)"
   ]
  },
  {
   "cell_type": "markdown",
   "metadata": {},
   "source": [
    "## training + test"
   ]
  },
  {
   "cell_type": "code",
   "execution_count": null,
   "metadata": {},
   "outputs": [],
   "source": [
    "# Do I have to sort them?!\n",
    "training_indices <- sample(nrow(somdata), 100)\n",
    "data.training <- scale(somdata[training_indices,])\n",
    "data.testing <- scale(somdata[-training_indices,], \n",
    "                      center = attr(data.training, \"scaled:center\"),\n",
    "                      scale = attr(data.training, \"scaled:scale\"))\n",
    "original_test_indices = seq(1,150)[-training_indices]"
   ]
  },
  {
   "cell_type": "code",
   "execution_count": null,
   "metadata": {},
   "outputs": [],
   "source": [
    "# get species of training set and convert to categorical one hot encoding\n",
    "Y = classvec2classmat(species[training_indices,])\n",
    "# train new SOM.\n",
    "data.som2 <- xyf(data.training, Y, \n",
    "    grid = somgrid(8, 8, \"hexagonal\"),\n",
    "                rlen=300,\n",
    "                user.weights=c(1,1))\n",
    "summary(data.som2)"
   ]
  },
  {
   "cell_type": "code",
   "execution_count": null,
   "metadata": {},
   "outputs": [],
   "source": [
    "# whatmap the numbers of the data layers in the kohonen object used in the mapping on which the predictions are based.\n",
    "predictions <- predict(data.som2, data.testing, whatmap=1)\n",
    "table(species[-training_indices,], predictions$predictions[[2]])"
   ]
  },
  {
   "cell_type": "code",
   "execution_count": null,
   "metadata": {},
   "outputs": [],
   "source": [
    "plot(data.som2, type = \"dist.neighbours\", palette.name = mypal, shape=\"straight\")"
   ]
  },
  {
   "cell_type": "code",
   "execution_count": null,
   "metadata": {},
   "outputs": [],
   "source": [
    "plot(data.som2, type = \"codes\", main = c(\"Codes X\", \"Codes Y\"), shape=\"straight\")\n",
    "data.som2.hc <- cutree(hclust(dist(data.som2$codes[[2]])), 3)\n",
    "kohonen::add.cluster.boundaries(data.som2, data.som2.hc)"
   ]
  },
  {
   "cell_type": "code",
   "execution_count": null,
   "metadata": {},
   "outputs": [],
   "source": [
    "bg.pallet <- c(\"red\", \"blue\", \"yellow\", \"purple\", \"green\")\n",
    "\n",
    "# make a vector of just the background colors for all map cells\n",
    "position.predictions <- classmat2classvec(predict(data.som2)$unit.predictions[[2]])\n",
    "base.color.vector <- bg.pallet[match(position.predictions, levels(species$Species))]\n",
    "\n",
    "# set alpha to scale with maximum confidence of prediction\n",
    "bgcols <- c()\n",
    "max.conf <- apply(data.som2$codes[[2]], 1, max)\n",
    "for (i in 1:length(base.color.vector)) {\n",
    "    bgcols[i] <- adjustcolor(base.color.vector[i], max.conf[i])\n",
    "}"
   ]
  },
  {
   "cell_type": "code",
   "execution_count": null,
   "metadata": {},
   "outputs": [],
   "source": [
    "par(mar = c(0, 0, 0, 4), xpd = TRUE)\n",
    "plot(data.som2, type = \"mapping\", pchs = 21, col = \"black\", bg = bg.pallet[match(species$Species, \n",
    "    levels(species$Species))], bgcol = bgcols, shape=\"straight\")\n",
    "\n",
    "legend(\"topright\", legend = levels(species$Species), text.col = bg.pallet, bty = \"n\", \n",
    "    inset = c(-0.03, 0))"
   ]
  }
 ],
 "metadata": {
  "kernelspec": {
   "display_name": "R",
   "language": "R",
   "name": "ir"
  },
  "language_info": {
   "codemirror_mode": "r",
   "file_extension": ".r",
   "mimetype": "text/x-r-source",
   "name": "R",
   "pygments_lexer": "r",
   "version": "3.5.1"
  }
 },
 "nbformat": 4,
 "nbformat_minor": 2
}
